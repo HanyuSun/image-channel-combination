{
 "cells": [
  {
   "cell_type": "code",
   "execution_count": 8,
   "metadata": {},
   "outputs": [],
   "source": [
    "# Preparing the dataset\n",
    "import os\n",
    "import cv2\n",
    "from os import listdir\n",
    "from numpy import asarray\n",
    "from numpy import vstack\n",
    "from keras.preprocessing.image import img_to_array\n",
    "from keras.preprocessing.image import load_img\n",
    "from numpy import savez_compressed\n",
    "\n",
    "def combine_image(path, name):\n",
    "    file =os.listdir(path + '100%/')\n",
    "    file.sort()\n",
    "   # n=0\n",
    "   # s=str(n+1) #将int转换为string，从1开始\n",
    "   # s = s.zfill(3) #字符串长度设置，不足左补零\n",
    "\n",
    "    for file_ in file:     #循环读取每个文件名\n",
    "        img1 = cv2.imread(path + 'PET-L/' + file_, cv2.IMREAD_GRAYSCALE)\n",
    "        img2 = cv2.imread(path + 'MR-F/' + file_, cv2.IMREAD_GRAYSCALE)\n",
    "        img3 = cv2.imread(path + 'MR-W/' + file_, cv2.IMREAD_GRAYSCALE)\n",
    "        res = cv2.merge([img1, img2, img3])\n",
    "       # filename = name + s + '.bmp'\n",
    "        path1 = path + 'COMB/'\n",
    "        cv2.imwrite(path1+file_,res)\n",
    "       #n+=1\n",
    "       #s = str(n+1)\n",
    "       # s = s.zfill(3)\n",
    "    return"
   ]
  },
  {
   "cell_type": "code",
   "execution_count": 2,
   "metadata": {},
   "outputs": [],
   "source": [
    "path = 'E:/siat_shy/PET-MR-DATA/bmp-combine/'\n",
    "path_hyj = path+'HYJ/'\n",
    "path_hym = path+'HYM/'\n",
    "path_lcy = path+'LCY/'\n",
    "path_ldz = path+'LDZ/'\n",
    "path_lky = path+'LKY/'\n",
    "path_slf = path+'SLF/'\n",
    "path_sys = path+'SYS/'\n",
    "path_tch = path+'TCH/'\n",
    "path_wfy = path+'WFY/'\n",
    "path_ykm = path+'YKM/'"
   ]
  },
  {
   "cell_type": "code",
   "execution_count": 11,
   "metadata": {},
   "outputs": [],
   "source": [
    "combine_image(path_hyj,'hyj')\n",
    "combine_image(path_hym,'hym')\n",
    "combine_image(path_lcy,'lcy')\n",
    "combine_image(path_ldz,'ldz')\n",
    "combine_image(path_lky,'lky')\n",
    "combine_image(path_slf,'slf')\n",
    "combine_image(path_sys,'sys')\n",
    "combine_image(path_tch,'tch')\n",
    "combine_image(path_wfy,'wfy')\n",
    "combine_image(path_ykm,'ykm')"
   ]
  },
  {
   "cell_type": "code",
   "execution_count": null,
   "metadata": {},
   "outputs": [],
   "source": []
  }
 ],
 "metadata": {
  "kernelspec": {
   "display_name": "Python 3",
   "language": "python",
   "name": "python3"
  },
  "language_info": {
   "codemirror_mode": {
    "name": "ipython",
    "version": 3
   },
   "file_extension": ".py",
   "mimetype": "text/x-python",
   "name": "python",
   "nbconvert_exporter": "python",
   "pygments_lexer": "ipython3",
   "version": "3.6.3"
  }
 },
 "nbformat": 4,
 "nbformat_minor": 4
}
